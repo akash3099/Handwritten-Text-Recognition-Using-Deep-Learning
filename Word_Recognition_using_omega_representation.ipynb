{
 "cells": [
  {
   "cell_type": "markdown",
   "id": "minor-atlas",
   "metadata": {},
   "source": [
    "# Method 2\n",
    "Using Omega representation"
   ]
  },
  {
   "cell_type": "markdown",
   "id": "voluntary-original",
   "metadata": {},
   "source": [
    "# OMEGA REPRESENTATION"
   ]
  },
  {
   "cell_type": "markdown",
   "id": "surprising-vessel",
   "metadata": {},
   "source": [
    "**Omega representation**: This is based on the claim that a word can be represented in terms of count of 11 primitve shapes present in various segments of image. The 11 shapes are: *ascender, descender, left small semi-circle, right small semi-circle, left large semi-circle, right large semi-circle, circle, vertical line, diagonal line, diagonal line at a slope of 135 degrees, and horizontal line*. These have been shown in figure.\n",
    "\n",
    "![Primary Shapes](https://drive.google.com/uc?export=view&id=1573VBQwD03ae_UBjDaYk4fq84bGmDzr2)\n",
    "\n",
    "The word is split into equal parts at various levels.\n",
    "\n",
    "At level *i*:  \n",
    "* A word is split into *i* (nearly) equal segments.  \n",
    "* For every segment, we compute a vector in which each segment correspond to count of a shape.\n",
    "\n",
    "![Omega for anagram](https://drive.google.com/uc?export=view&id=1nk1pj0yp5wunCxYeUp5ppH8hdsHF41rv)\n",
    "\n",
    "\n",
    "*  Individual vectors of each segment are concatenated after one another, i.e. the level vector is obtained by concatenating individual vectors of first segment followed by second, third and so on.\n",
    "\n",
    "The final vector is obtained by concatenating vectors of all levels $\\{L_i.L_{i+1}.L_{i+2}\\cdots\\}$.\n",
    "\n",
    "*we are using levels 1-5. \n",
    "This makes the length of final Omega vector to be (1+2+3+4+5) * 11 = 165*\n"
   ]
  },
  {
   "cell_type": "code",
   "execution_count": 6,
   "id": "classified-sapphire",
   "metadata": {},
   "outputs": [],
   "source": [
    "# Import the necessary libraries\n",
    "\n",
    "import tensorflow as tf\n",
    "import numpy as np\n",
    "import pandas as pd\n",
    "import seaborn as sns\n",
    "import cv2\n",
    "import matplotlib.pyplot as plt\n",
    "import os\n",
    "import shutil\n",
    "import random\n",
    "import pandas"
   ]
  },
  {
   "cell_type": "code",
   "execution_count": 7,
   "id": "excited-humanitarian",
   "metadata": {},
   "outputs": [],
   "source": [
    "IMG_HEIGHT = 50\n",
    "IMG_WIDTH = 250"
   ]
  },
  {
   "cell_type": "markdown",
   "id": "stainless-apple",
   "metadata": {},
   "source": [
    "# Dataset\n",
    "\n",
    "The dataset used here is a synthetic word recognition dataset. It consists of images of lowercase English words, generated with handwritten-fonts. All images are single channel (grayscale) and have size 250 * 50. <br>\n",
    "\n",
    "The dataset has the following directory structure:\n",
    "\n",
    "<pre>\n",
    "<b>WR-Dataset</b>\n",
    "|__ <b>train</b>: [foo_1.png, bar_2.png, sample_3.png ....]\n",
    "|__ <b>validation</b>: [foo_221.png, bar_322.png, sample_353.png ....]\n",
    "|__ <b>test</b>: [bar_521.png, foo_272.png, example_433.png ....]\n",
    "|__ <b>Alphabet.csv</b>\n",
    "    \n",
    "</pre>\n",
    "Number of images in train,test and validate folder is 2052, 400 and 108 respectivly . "
   ]
  },
  {
   "cell_type": "code",
   "execution_count": 8,
   "id": "impressed-arrow",
   "metadata": {},
   "outputs": [],
   "source": [
    "#Add the paths for train, validation and test directories\n",
    "\n",
    "train_dir_path=\"C:/Users/hp/Desktop/PROJECT/Word_Recognition/WR-Dataset/Train\"\n",
    "validation_dir_path=\"C:/Users/hp/Desktop/PROJECT/Word_Recognition/WR-Dataset/Validation\"\n",
    "test_dir_path=\"C:/Users/hp/Desktop/PROJECT/Word_Recognition/WR-Dataset/Test\""
   ]
  },
  {
   "cell_type": "markdown",
   "id": "balanced-terry",
   "metadata": {},
   "source": [
    "## Visualizing sample images\n",
    "\n",
    "Prepare an image to label map and visualize 5 randomly chosen images from training, validation and test sets (along with their labels). Also, Mention the number of word classes present in each of the three sets.\n"
   ]
  },
  {
   "cell_type": "code",
   "execution_count": 9,
   "id": "existing-happening",
   "metadata": {},
   "outputs": [],
   "source": [
    "def get_classes_count(df):\n",
    "    l = list(df['label'])\n",
    "    map = {}\n",
    "    for i in l:\n",
    "        map[i] = 0\n",
    "    return len(map)"
   ]
  },
  {
   "cell_type": "code",
   "execution_count": 10,
   "id": "further-shower",
   "metadata": {},
   "outputs": [],
   "source": [
    "def visualize_image(img):\n",
    "    # Insert your code here to visualize a given image\n",
    "    %pylab inline\n",
    "    import matplotlib.pyplot as plt\n",
    "    import matplotlib.image as mpimg\n",
    "    img = mpimg.imread(img)\n",
    "    imgplot = plt.imshow(img)\n",
    "    plt.show()"
   ]
  },
  {
   "cell_type": "code",
   "execution_count": 11,
   "id": "statewide-montreal",
   "metadata": {},
   "outputs": [],
   "source": [
    "def get_dataframe(folder_name):\n",
    "    import glob\n",
    "    images_fullpath = glob.glob(folder_name + '/*')\n",
    "    images = []\n",
    "    for image in images_fullpath:\n",
    "        images.append(os.path.basename(image))\n",
    "    labels = []\n",
    "    for image in images:\n",
    "        labels.append(image.split(\"_\")[0])\n",
    "    data = np.column_stack((images,labels))\n",
    "    df = pandas.DataFrame(data = data, columns = ['Image','label']) \n",
    "    return df"
   ]
  },
  {
   "cell_type": "code",
   "execution_count": 12,
   "id": "widespread-chancellor",
   "metadata": {},
   "outputs": [
    {
     "data": {
      "text/html": [
       "<div>\n",
       "<style scoped>\n",
       "    .dataframe tbody tr th:only-of-type {\n",
       "        vertical-align: middle;\n",
       "    }\n",
       "\n",
       "    .dataframe tbody tr th {\n",
       "        vertical-align: top;\n",
       "    }\n",
       "\n",
       "    .dataframe thead th {\n",
       "        text-align: right;\n",
       "    }\n",
       "</style>\n",
       "<table border=\"1\" class=\"dataframe\">\n",
       "  <thead>\n",
       "    <tr style=\"text-align: right;\">\n",
       "      <th></th>\n",
       "      <th>Image</th>\n",
       "      <th>label</th>\n",
       "    </tr>\n",
       "  </thead>\n",
       "  <tbody>\n",
       "    <tr>\n",
       "      <th>0</th>\n",
       "      <td>about_2.png</td>\n",
       "      <td>about</td>\n",
       "    </tr>\n",
       "    <tr>\n",
       "      <th>1</th>\n",
       "      <td>address_0.png</td>\n",
       "      <td>address</td>\n",
       "    </tr>\n",
       "    <tr>\n",
       "      <th>2</th>\n",
       "      <td>address_2.png</td>\n",
       "      <td>address</td>\n",
       "    </tr>\n",
       "    <tr>\n",
       "      <th>3</th>\n",
       "      <td>address_4.png</td>\n",
       "      <td>address</td>\n",
       "    </tr>\n",
       "    <tr>\n",
       "      <th>4</th>\n",
       "      <td>after_6.png</td>\n",
       "      <td>after</td>\n",
       "    </tr>\n",
       "    <tr>\n",
       "      <th>...</th>\n",
       "      <td>...</td>\n",
       "      <td>...</td>\n",
       "    </tr>\n",
       "    <tr>\n",
       "      <th>395</th>\n",
       "      <td>w_5.png</td>\n",
       "      <td>w</td>\n",
       "    </tr>\n",
       "    <tr>\n",
       "      <th>396</th>\n",
       "      <td>x_5.png</td>\n",
       "      <td>x</td>\n",
       "    </tr>\n",
       "    <tr>\n",
       "      <th>397</th>\n",
       "      <td>years_5.png</td>\n",
       "      <td>years</td>\n",
       "    </tr>\n",
       "    <tr>\n",
       "      <th>398</th>\n",
       "      <td>year_3.png</td>\n",
       "      <td>year</td>\n",
       "    </tr>\n",
       "    <tr>\n",
       "      <th>399</th>\n",
       "      <td>you_0.png</td>\n",
       "      <td>you</td>\n",
       "    </tr>\n",
       "  </tbody>\n",
       "</table>\n",
       "<p>400 rows × 2 columns</p>\n",
       "</div>"
      ],
      "text/plain": [
       "             Image    label\n",
       "0      about_2.png    about\n",
       "1    address_0.png  address\n",
       "2    address_2.png  address\n",
       "3    address_4.png  address\n",
       "4      after_6.png    after\n",
       "..             ...      ...\n",
       "395        w_5.png        w\n",
       "396        x_5.png        x\n",
       "397    years_5.png    years\n",
       "398     year_3.png     year\n",
       "399      you_0.png      you\n",
       "\n",
       "[400 rows x 2 columns]"
      ]
     },
     "metadata": {},
     "output_type": "display_data"
    },
    {
     "data": {
      "text/html": [
       "<div>\n",
       "<style scoped>\n",
       "    .dataframe tbody tr th:only-of-type {\n",
       "        vertical-align: middle;\n",
       "    }\n",
       "\n",
       "    .dataframe tbody tr th {\n",
       "        vertical-align: top;\n",
       "    }\n",
       "\n",
       "    .dataframe thead th {\n",
       "        text-align: right;\n",
       "    }\n",
       "</style>\n",
       "<table border=\"1\" class=\"dataframe\">\n",
       "  <thead>\n",
       "    <tr style=\"text-align: right;\">\n",
       "      <th></th>\n",
       "      <th>Image</th>\n",
       "      <th>label</th>\n",
       "    </tr>\n",
       "  </thead>\n",
       "  <tbody>\n",
       "    <tr>\n",
       "      <th>0</th>\n",
       "      <td>about_0.png</td>\n",
       "      <td>about</td>\n",
       "    </tr>\n",
       "    <tr>\n",
       "      <th>1</th>\n",
       "      <td>about_1.png</td>\n",
       "      <td>about</td>\n",
       "    </tr>\n",
       "    <tr>\n",
       "      <th>2</th>\n",
       "      <td>about_4.png</td>\n",
       "      <td>about</td>\n",
       "    </tr>\n",
       "    <tr>\n",
       "      <th>3</th>\n",
       "      <td>about_5.png</td>\n",
       "      <td>about</td>\n",
       "    </tr>\n",
       "    <tr>\n",
       "      <th>4</th>\n",
       "      <td>about_6.png</td>\n",
       "      <td>about</td>\n",
       "    </tr>\n",
       "    <tr>\n",
       "      <th>...</th>\n",
       "      <td>...</td>\n",
       "      <td>...</td>\n",
       "    </tr>\n",
       "    <tr>\n",
       "      <th>2047</th>\n",
       "      <td>you_3.png</td>\n",
       "      <td>you</td>\n",
       "    </tr>\n",
       "    <tr>\n",
       "      <th>2048</th>\n",
       "      <td>you_4.png</td>\n",
       "      <td>you</td>\n",
       "    </tr>\n",
       "    <tr>\n",
       "      <th>2049</th>\n",
       "      <td>you_5.png</td>\n",
       "      <td>you</td>\n",
       "    </tr>\n",
       "    <tr>\n",
       "      <th>2050</th>\n",
       "      <td>you_6.png</td>\n",
       "      <td>you</td>\n",
       "    </tr>\n",
       "    <tr>\n",
       "      <th>2051</th>\n",
       "      <td>you_7.png</td>\n",
       "      <td>you</td>\n",
       "    </tr>\n",
       "  </tbody>\n",
       "</table>\n",
       "<p>2052 rows × 2 columns</p>\n",
       "</div>"
      ],
      "text/plain": [
       "            Image  label\n",
       "0     about_0.png  about\n",
       "1     about_1.png  about\n",
       "2     about_4.png  about\n",
       "3     about_5.png  about\n",
       "4     about_6.png  about\n",
       "...           ...    ...\n",
       "2047    you_3.png    you\n",
       "2048    you_4.png    you\n",
       "2049    you_5.png    you\n",
       "2050    you_6.png    you\n",
       "2051    you_7.png    you\n",
       "\n",
       "[2052 rows x 2 columns]"
      ]
     },
     "metadata": {},
     "output_type": "display_data"
    },
    {
     "data": {
      "text/html": [
       "<div>\n",
       "<style scoped>\n",
       "    .dataframe tbody tr th:only-of-type {\n",
       "        vertical-align: middle;\n",
       "    }\n",
       "\n",
       "    .dataframe tbody tr th {\n",
       "        vertical-align: top;\n",
       "    }\n",
       "\n",
       "    .dataframe thead th {\n",
       "        text-align: right;\n",
       "    }\n",
       "</style>\n",
       "<table border=\"1\" class=\"dataframe\">\n",
       "  <thead>\n",
       "    <tr style=\"text-align: right;\">\n",
       "      <th></th>\n",
       "      <th>Image</th>\n",
       "      <th>label</th>\n",
       "    </tr>\n",
       "  </thead>\n",
       "  <tbody>\n",
       "    <tr>\n",
       "      <th>0</th>\n",
       "      <td>about_3.png</td>\n",
       "      <td>about</td>\n",
       "    </tr>\n",
       "    <tr>\n",
       "      <th>1</th>\n",
       "      <td>address_5.png</td>\n",
       "      <td>address</td>\n",
       "    </tr>\n",
       "    <tr>\n",
       "      <th>2</th>\n",
       "      <td>address_7.png</td>\n",
       "      <td>address</td>\n",
       "    </tr>\n",
       "    <tr>\n",
       "      <th>3</th>\n",
       "      <td>add_2.png</td>\n",
       "      <td>add</td>\n",
       "    </tr>\n",
       "    <tr>\n",
       "      <th>4</th>\n",
       "      <td>all_2.png</td>\n",
       "      <td>all</td>\n",
       "    </tr>\n",
       "    <tr>\n",
       "      <th>...</th>\n",
       "      <td>...</td>\n",
       "      <td>...</td>\n",
       "    </tr>\n",
       "    <tr>\n",
       "      <th>103</th>\n",
       "      <td>user_2.png</td>\n",
       "      <td>user</td>\n",
       "    </tr>\n",
       "    <tr>\n",
       "      <th>104</th>\n",
       "      <td>very_5.png</td>\n",
       "      <td>very</td>\n",
       "    </tr>\n",
       "    <tr>\n",
       "      <th>105</th>\n",
       "      <td>way_6.png</td>\n",
       "      <td>way</td>\n",
       "    </tr>\n",
       "    <tr>\n",
       "      <th>106</th>\n",
       "      <td>website_1.png</td>\n",
       "      <td>website</td>\n",
       "    </tr>\n",
       "    <tr>\n",
       "      <th>107</th>\n",
       "      <td>years_4.png</td>\n",
       "      <td>years</td>\n",
       "    </tr>\n",
       "  </tbody>\n",
       "</table>\n",
       "<p>108 rows × 2 columns</p>\n",
       "</div>"
      ],
      "text/plain": [
       "             Image    label\n",
       "0      about_3.png    about\n",
       "1    address_5.png  address\n",
       "2    address_7.png  address\n",
       "3        add_2.png      add\n",
       "4        all_2.png      all\n",
       "..             ...      ...\n",
       "103     user_2.png     user\n",
       "104     very_5.png     very\n",
       "105      way_6.png      way\n",
       "106  website_1.png  website\n",
       "107    years_4.png    years\n",
       "\n",
       "[108 rows x 2 columns]"
      ]
     },
     "metadata": {},
     "output_type": "display_data"
    },
    {
     "name": "stdout",
     "output_type": "stream",
     "text": [
      "Number of classes in Train set :  300\n",
      "Images from Train Dataset\n",
      "Populating the interactive namespace from numpy and matplotlib\n"
     ]
    },
    {
     "name": "stderr",
     "output_type": "stream",
     "text": [
      "C:\\Users\\hp\\Anaconda3\\lib\\site-packages\\IPython\\core\\magics\\pylab.py:160: UserWarning: pylab import has clobbered these variables: ['random']\n",
      "`%matplotlib` prevents importing * from pylab and numpy\n",
      "  \"\\n`%matplotlib` prevents importing * from pylab and numpy\"\n"
     ]
    },
    {
     "data": {
      "image/png": "[encoded data removed]",
      "text/plain": [
       "<Figure size 432x288 with 1 Axes>"
      ]
     },
     "metadata": {
      "needs_background": "light"
     },
     "output_type": "display_data"
    },
    {
     "name": "stdout",
     "output_type": "stream",
     "text": [
      "Populating the interactive namespace from numpy and matplotlib\n"
     ]
    },
    {
     "data": {
      "image/png": "[encoded data removed]",
      "text/plain": [
       "<Figure size 432x288 with 1 Axes>"
      ]
     },
     "metadata": {
      "needs_background": "light"
     },
     "output_type": "display_data"
    },
    {
     "name": "stdout",
     "output_type": "stream",
     "text": [
      "Populating the interactive namespace from numpy and matplotlib\n"
     ]
    },
    {
     "data": {
      "image/png": "[encoded data removed]",
      "text/plain": [
       "<Figure size 432x288 with 1 Axes>"
      ]
     },
     "metadata": {
      "needs_background": "light"
     },
     "output_type": "display_data"
    },
    {
     "name": "stdout",
     "output_type": "stream",
     "text": [
      "Populating the interactive namespace from numpy and matplotlib\n"
     ]
    },
    {
     "data": {
      "image/png": "[encoded data removed]",
      "text/plain": [
       "<Figure size 432x288 with 1 Axes>"
      ]
     },
     "metadata": {
      "needs_background": "light"
     },
     "output_type": "display_data"
    },
    {
     "name": "stdout",
     "output_type": "stream",
     "text": [
      "Populating the interactive namespace from numpy and matplotlib\n"
     ]
    },
    {
     "data": {
      "image/png": "[encoded data removed]",
      "text/plain": [
       "<Figure size 432x288 with 1 Axes>"
      ]
     },
     "metadata": {
      "needs_background": "light"
     },
     "output_type": "display_data"
    },
    {
     "name": "stdout",
     "output_type": "stream",
     "text": [
      "Number of classes in Validation set :  86\n",
      "Images from Validation Dataset\n",
      "Populating the interactive namespace from numpy and matplotlib\n"
     ]
    },
    {
     "data": {
      "image/png": "[encoded data removed]",
      "text/plain": [
       "<Figure size 432x288 with 1 Axes>"
      ]
     },
     "metadata": {
      "needs_background": "light"
     },
     "output_type": "display_data"
    },
    {
     "name": "stdout",
     "output_type": "stream",
     "text": [
      "Populating the interactive namespace from numpy and matplotlib\n"
     ]
    },
    {
     "data": {
      "image/png": "[encoded data removed]",
      "text/plain": [
       "<Figure size 432x288 with 1 Axes>"
      ]
     },
     "metadata": {
      "needs_background": "light"
     },
     "output_type": "display_data"
    },
    {
     "name": "stdout",
     "output_type": "stream",
     "text": [
      "Populating the interactive namespace from numpy and matplotlib\n"
     ]
    },
    {
     "data": {
      "image/png": "[encoded data removed]",
      "text/plain": [
       "<Figure size 432x288 with 1 Axes>"
      ]
     },
     "metadata": {
      "needs_background": "light"
     },
     "output_type": "display_data"
    },
    {
     "name": "stdout",
     "output_type": "stream",
     "text": [
      "Populating the interactive namespace from numpy and matplotlib\n"
     ]
    },
    {
     "data": {
      "image/png": "[encoded data removed]",
      "text/plain": [
       "<Figure size 432x288 with 1 Axes>"
      ]
     },
     "metadata": {
      "needs_background": "light"
     },
     "output_type": "display_data"
    },
    {
     "name": "stdout",
     "output_type": "stream",
     "text": [
      "Populating the interactive namespace from numpy and matplotlib\n"
     ]
    },
    {
     "data": {
      "image/png": "[encoded data removed]",
      "text/plain": [
       "<Figure size 432x288 with 1 Axes>"
      ]
     },
     "metadata": {
      "needs_background": "light"
     },
     "output_type": "display_data"
    },
    {
     "name": "stdout",
     "output_type": "stream",
     "text": [
      "Number of classes in Test set :  198\n",
      "Images from Test Dataset\n",
      "Populating the interactive namespace from numpy and matplotlib\n"
     ]
    },
    {
     "data": {
      "image/png": "[encoded data removed]",
      "text/plain": [
       "<Figure size 432x288 with 1 Axes>"
      ]
     },
     "metadata": {
      "needs_background": "light"
     },
     "output_type": "display_data"
    },
    {
     "name": "stdout",
     "output_type": "stream",
     "text": [
      "Populating the interactive namespace from numpy and matplotlib\n"
     ]
    },
    {
     "data": {
      "image/png": "[encoded data removed]",
      "text/plain": [
       "<Figure size 432x288 with 1 Axes>"
      ]
     },
     "metadata": {
      "needs_background": "light"
     },
     "output_type": "display_data"
    },
    {
     "name": "stdout",
     "output_type": "stream",
     "text": [
      "Populating the interactive namespace from numpy and matplotlib\n"
     ]
    },
    {
     "data": {
      "image/png": "[encoded data removed]",
      "text/plain": [
       "<Figure size 432x288 with 1 Axes>"
      ]
     },
     "metadata": {
      "needs_background": "light"
     },
     "output_type": "display_data"
    },
    {
     "name": "stdout",
     "output_type": "stream",
     "text": [
      "Populating the interactive namespace from numpy and matplotlib\n"
     ]
    },
    {
     "data": {
      "image/png": "[encoded data removed]",
      "text/plain": [
       "<Figure size 432x288 with 1 Axes>"
      ]
     },
     "metadata": {
      "needs_background": "light"
     },
     "output_type": "display_data"
    },
    {
     "name": "stdout",
     "output_type": "stream",
     "text": [
      "Populating the interactive namespace from numpy and matplotlib\n"
     ]
    },
    {
     "data": {
      "image/png": "[encoded data removed]",
      "text/plain": [
       "<Figure size 432x288 with 1 Axes>"
      ]
     },
     "metadata": {
      "needs_background": "light"
     },
     "output_type": "display_data"
    }
   ],
   "source": [
    "#code to build a dataframe with Images and their corresponding labels for 3 folders (similar to Lab 3(a))\n",
    "test_df = get_dataframe(test_dir_path)\n",
    "train_df = get_dataframe(train_dir_path)\n",
    "validation_df = get_dataframe(validation_dir_path)\n",
    "\n",
    "# display the dataframes\n",
    "display(test_df)\n",
    "display(train_df)\n",
    "display(validation_df)\n",
    "\n",
    "# Visualise images from the train set\n",
    "print(\"Number of classes in Train set : \", get_classes_count(train_df))\n",
    "print(\"Images from Train Dataset\")\n",
    "for i in range(5):\n",
    "    visualize_image(train_dir_path + '/'+ random.choice(train_df['Image']))\n",
    "# Visualise images from the validation set\n",
    "print(\"Number of classes in Validation set : \", get_classes_count(validation_df))\n",
    "print(\"Images from Validation Dataset\")\n",
    "for i in range(5):\n",
    "    visualize_image(validation_dir_path + '/'+ random.choice(validation_df['Image']))\n",
    "\n",
    "# Visualise images from the test set\n",
    "print(\"Number of classes in Test set : \", get_classes_count(test_df))\n",
    "print(\"Images from Test Dataset\")\n",
    "for i in range(5):\n",
    "    visualize_image(test_dir_path + '/'+ random.choice(test_df['Image']))"
   ]
  },
  {
   "cell_type": "markdown",
   "id": "geological-butler",
   "metadata": {},
   "source": [
    "# modules that can give  vector representations for the input words."
   ]
  },
  {
   "cell_type": "code",
   "execution_count": 13,
   "id": "extensive-color",
   "metadata": {},
   "outputs": [],
   "source": [
    "def get_Vector(levels,word):\n",
    "    l = []\n",
    "    left = len(word)\n",
    "    pos = 0\n",
    "    while left:\n",
    "        temp = left // levels\n",
    "        l.append(word[pos:pos+temp])\n",
    "        pos += temp\n",
    "        left -= temp\n",
    "        levels -= 1\n",
    "    return l"
   ]
  },
  {
   "cell_type": "code",
   "execution_count": 17,
   "id": "supposed-nelson",
   "metadata": {},
   "outputs": [],
   "source": [
    "def get_Omega_vector(word):\n",
    "  #Insert the code for a function that returns Omega representation of the input word\n",
    "    columns = ['label','c1','c2','c3','c4','c5','c6','c7','c8','c9','c10','c11']\n",
    "    df = pandas.read_csv(\"C:/Users/hp/Desktop/PROJECT/Word_Recognition/WR-Dataset/Alphabet.csv\",names = columns).to_numpy()\n",
    "    l = []\n",
    "    for i in range(1,6):\n",
    "        temp = get_Vector(i,word)\n",
    "        l2 = []\n",
    "        for str in temp:\n",
    "            l3 = [0 for i in range(11)]\n",
    "            for c in str:\n",
    "                values =  df[ord('c') - ord('a')]\n",
    "                for j in range(1,12):\n",
    "                    l3[j-1] += values[j]\n",
    "            l2.extend(l3)\n",
    "        l.extend(l2)\n",
    "    return l\n",
    "  #Hint: For computing count of segments, you can add count of shapes for individual characters (already provided in Alphabet.csv file)\n",
    "  "
   ]
  },
  {
   "cell_type": "code",
   "execution_count": 18,
   "id": "entitled-treasurer",
   "metadata": {},
   "outputs": [
    {
     "name": "stdout",
     "output_type": "stream",
     "text": [
      "Omega vector: [0, 0, 5, 0, 0, 0, 0, 0, 0, 0, 0, 0, 0, 2, 0, 0, 0, 0, 0, 0, 0, 0, 0, 0, 3, 0, 0, 0, 0, 0, 0, 0, 0, 0, 0, 1, 0, 0, 0, 0, 0, 0, 0, 0, 0, 0, 2, 0, 0, 0, 0, 0, 0, 0, 0, 0, 0, 2, 0, 0, 0, 0, 0, 0, 0, 0, 0, 0, 1, 0, 0, 0, 0, 0, 0, 0, 0, 0, 0, 1, 0, 0, 0, 0, 0, 0, 0, 0, 0, 0, 1, 0, 0, 0, 0, 0, 0, 0, 0, 0, 0, 2, 0, 0, 0, 0, 0, 0, 0, 0, 0, 0, 1, 0, 0, 0, 0, 0, 0, 0, 0, 0, 0, 1, 0, 0, 0, 0, 0, 0, 0, 0, 0, 0, 1, 0, 0, 0, 0, 0, 0, 0, 0, 0, 0, 1, 0, 0, 0, 0, 0, 0, 0, 0, 0, 0, 1, 0, 0, 0, 0, 0, 0, 0, 0]\n"
     ]
    }
   ],
   "source": [
    "name =\"Akash\"\n",
    "\n",
    "print(\"Omega vector:\",get_Omega_vector(name))"
   ]
  },
  {
   "cell_type": "markdown",
   "id": "fuzzy-cabin",
   "metadata": {},
   "source": [
    "# Building Omega model architecture \n",
    "\n",
    "Following is the architecture of the model that will learn Omega representation:\n",
    "\n",
    "Input shape: 250 * 50 ( RGB )\n",
    "\n",
    "* 2 Convolution layers with 64  filters\n",
    "* A Max Pool layer with pool size 2 * 2   \n",
    "* 2 Convolution layers with 128  filters\n",
    "* A Max Pool layer with pool size 2 * 2    \n",
    "* 6 Convolution layers with 256  filters\n",
    "* 3 Convolution layers with 512  filters\n",
    "* GLobal Average Pooling layer\n",
    "* Dense  layer with 4096 units\n",
    "* Dropout layer with rate 0.5\n",
    "* Dense  layer with 4096 units\n",
    "* Dropout layer with rate 0.5\n",
    "* Dense  layer with 165 units (Output)\n",
    "\n",
    "For all convolution layers, keep kernel size as 3 * 3, use ReLu activation \n",
    "\n",
    "For all max pool layers, keep stride as 2\n",
    "\n",
    "For all dense layers, use ReLu activation.\n",
    "\n",
    "**Loss function**: Mean-squared error\n",
    "\n",
    "**Similarity Metric**: Cosine Similarity"
   ]
  },
  {
   "cell_type": "code",
   "execution_count": 19,
   "id": "removed-crawford",
   "metadata": {},
   "outputs": [],
   "source": [
    "#code for function that returns a model which will predict Omega representation\n",
    "\n",
    "def Omega_model(learning_rate=1e-4):\n",
    "    # Instantiate Sequential model\n",
    "    model = tf.keras.models.Sequential()\n",
    "    s = 2\n",
    "    # Add Layers\n",
    "    model.add(tf.keras.layers.Conv2D(strides = s,filters = 64, kernel_size = (3,3), activation='relu' ,input_shape=(IMG_HEIGHT,IMG_WIDTH, 3), padding = 'same'))\n",
    "    model.add(tf.keras.layers.Conv2D(strides = s,filters = 64, kernel_size = (3,3), activation='relu', padding = 'same'))\n",
    "    model.add(tf.keras.layers.MaxPooling2D(pool_size = (2,2), strides = 2))\n",
    "    model.add(tf.keras.layers.Conv2D(strides = s,filters = 128, kernel_size = (3,3), activation='relu', padding = 'same'))\n",
    "    model.add(tf.keras.layers.Conv2D(strides = s,filters = 128, kernel_size = (3,3), activation='relu', padding = 'same'))\n",
    "    model.add(tf.keras.layers.MaxPooling2D(pool_size = (2,2), strides = 2))\n",
    "    for i in range(6):\n",
    "        model.add(tf.keras.layers.Conv2D(strides = s,filters = 256, kernel_size = (3,3), activation='relu', padding = 'same'))\n",
    "    for i in range(3):\n",
    "        model.add(tf.keras.layers.Conv2D(strides = s,filters = 512, kernel_size = (3,3), activation='relu', padding = 'same'))\n",
    "    model.add(tf.keras.layers.GlobalAveragePooling2D())\n",
    "    model.add(tf.keras.layers.Dense(4096, activation='relu'))\n",
    "    model.add(tf.keras.layers.Dropout(0.5))\n",
    "    model.add(tf.keras.layers.Dense(4096, activation='relu'))\n",
    "    model.add(tf.keras.layers.Dropout(0.5))\n",
    "    model.add(tf.keras.layers.Dense(165, activation='relu'))\n",
    "    \n",
    "    # Define optimizers (Adam Optimizer), loss function and similarity metrics\n",
    "    opt = tf.keras.optimizers.Adam(learning_rate=learning_rate)\n",
    "    loss =  tf.keras.losses.MeanSquaredError()    \n",
    "    m = [tf.keras.metrics.CosineSimilarity()]\n",
    "    \n",
    "    # Compile the model\n",
    "    model.compile(optimizer=opt, loss=loss, metrics=m)\n",
    "    \n",
    "    # return model\n",
    "    return model\n"
   ]
  },
  {
   "cell_type": "markdown",
   "id": "constant-treat",
   "metadata": {},
   "source": [
    "we are using MSE as loss function for final layer in Omega Model because MSE is a good loss function in cases when the error could be positive and negative.\n",
    "We are using ReLu as activation function because The output of the Omega model is a vector which contains digits thus ReLu is a good choice here \n",
    "moreover ReLu does not have vanishing gradient problem "
   ]
  },
  {
   "cell_type": "markdown",
   "id": "seven-imagination",
   "metadata": {},
   "source": [
    "## Seen and Unseen Words\n",
    "\n",
    "Words whose images hase been seen by the model during training are termed as seen words, while those which are part of the test set but not seen during training are called unseen words."
   ]
  },
  {
   "cell_type": "code",
   "execution_count": 20,
   "id": "apart-sight",
   "metadata": {},
   "outputs": [
    {
     "name": "stdout",
     "output_type": "stream",
     "text": [
      "Seen words :  ['about', 'address', 'add', 'after', 'all', 'also', 'am', 'and', 'any', 'an', 'area', 'are', 'as', 'at', 'available', 'a', 'back', 'based', 'because', 'been', 'before', 'being', 'best', 'between', 'be', 'black', 'books', 'book', 'both', 'business', 'but', 'buy', 'by', 'b', 'can', 'car', 'case', 'center', 'check', 'city', 'click', 'code', 'comments', 'community', 'company', 'contact', 'copyright', 'could', 'c', 'data', 'date', 'days', 'day', 'design', 'details', 'development', 'de', 'did', 'does', 'do', 'dvd', 'd', 'each', 'ebay', 'education', 'email', 'even', 'e', 'family', 'file', 'find', 'first', 'forum', 'for', 'found', 'free', 'from', 'full', 'f', 'games', 'general', 'get', 'good', 'go', 'great', 'group', 'g', 'had', 'has', 'have', 'health', 'help', 'here', 'her', 'he', 'high', 'his', 'home', 'hotels', 'hotel', 'house', 'how', 'if', 'index', 'information', 'info', 'international', 'internet', 'into', 'in', 'is', 'items', 'item', 'its', 'it', 'i', 'january', 'jan', 'just', 'know', 'last', 'life', 'like', 'line', 'links', 'link', 'list', 'local', 'long', 'l', 'made', 'mail', 'make', 'management', 'many', 'map', 'may', 'member', 'message', 'me', 'more', 'most', 'much', 'music', 'must', 'my', 'm', 'name', 'national', 'need', 'news', 'new', 'next', 'not', 'now', 'no', 'number', 'n', 'office', 'off', 'of', 'one', 'online', 'only', 'on', 'open', 'order', 'or', 'other', 'our', 'out', 'over', 'own', 'o', 'pages', 'page', 'part', 'people', 'phone', 'please', 'pm', 'policy', 'posted', 'post', 'prices', 'price', 'privacy', 'products', 'product', 'program', 'project', 'public', 'p', 'read', 'real', 'related', 'report', 'research', 'reserved', 'results', 'reviews', 'review', 're', 'rights', 'right', 'r', 'said', 'same', 'school', 'search', 'section', 'security', 'see', 'send', 'services', 'service', 'set', 'she', 'shipping', 'should', 'show', 'sign', 'site', 'software', 'some', 'south', 'so', 'special', 'sports', 'states', 'state', 'store', 'subject', 'such', 'support', 'system', 's', 'take', 'technology', 'terms', 'than', 'that', 'their', 'them', 'then', 'there', 'these', 'they', 'the', 'this', 'those', 'through', 'time', 'today', 'top', 'to', 'travel', 'two', 'type', 't', 'uk', 'under', 'united', 'university', 'up', 'used', 'user', 'use', 'using', 'us', 'version', 'very', 'video', 'view', 'want', 'was', 'way', 'website', 'web', 'well', 'were', 'we', 'what', 'when', 'where', 'which', 'who', 'will', 'within', 'with', 'women', 'work', 'world', 'would', 'w', 'x', 'years', 'year', 'your', 'you']\n",
      "\n",
      "Unseen words :  ['about', 'address', 'after', 'all', 'also', 'american', 'am', 'and', 'any', 'are', 'as', 'at', 'available', 'because', 'been', 'before', 'between', 'be', 'black', 'book', 'both', 'business', 'buy', 'by', 'b', 'can', 'care', 'car', 'center', 'comments', 'computer', 'copyright', 'county', 'c', 'data', 'days', 'day', 'design', 'details', 'development', 'did', 'download', 'down', 'd', 'education', 'email', 'end', 'family', 'file', 'find', 'first', 'following', 'forum', 'for', 'free', 'from', 'full', 'f', 'games', 'game', 'good', 'go', 'had', 'help', 'here', 'he', 'high', 'him', 'home', 'hotels', 'house', 'how', 'h', 'index', 'internet', 'into', 'its', 'i', 'january', 'just', 'know', 'like', 'line', 'link', 'list', 'local', 'made', 'make', 'management', 'many', 'members', 'member', 'message', 'more', 'most', 'music', 'national', 'need', 'network', 'news', 'next', 'not', 'now', 'no', 'number', 'office', 'online', 'only', 'on', 'open', 'order', 'or', 'our', 'over', 'own', 'o', 'page', 'part', 'people', 'phone', 'photo', 'place', 'policy', 'power', 'prices', 'price', 'product', 'real', 'report', 'research', 'results', 'reviews', 'review', 're', 'rights', 'r', 'same', 'school', 'section', 'security', 'see', 'send', 'services', 'she', 'show', 'sign', 'south', 'special', 'states', 'state', 'store', 'subject', 'such', 'systems', 's', 'take', 'technology', 'terms', 'than', 'that', 'their', 'them', 'these', 'they', 'the', 'those', 'three', 'today', 'top', 'total', 'two', 't', 'under', 'united', 'university', 'use', 'using', 'us', 'version', 'very', 'view', 'want', 'well', 'were', 'we', 'what', 'when', 'while', 'who', 'will', 'with', 'women', 'work', 'w', 'x', 'years', 'year', 'you']\n"
     ]
    }
   ],
   "source": [
    "#Insert code to print seen word classes \n",
    "dict_seen = {}\n",
    "for label in train_df['label']:\n",
    "    dict_seen[label] = 1\n",
    "print(\"Seen words : \" , list(dict_seen.keys()))\n",
    "\n",
    "#Insert code to print unseen word classes from test set\n",
    "dict_unseen = {}\n",
    "for label in test_df['label']:\n",
    "    dict_unseen[label] = 1\n",
    "print(\"\\nUnseen words : \", list(dict_unseen.keys()))"
   ]
  },
  {
   "cell_type": "code",
   "execution_count": 21,
   "id": "latest-arrival",
   "metadata": {},
   "outputs": [],
   "source": [
    "NUM_EPOCHS=10\n",
    "BATCH_SIZE=8"
   ]
  },
  {
   "cell_type": "markdown",
   "id": "stunning-singapore",
   "metadata": {},
   "source": [
    "# Tuning Hyperparameters for Omega Model\n",
    "\n",
    "We will now tune the *learning rate* for the Omega Model. \n",
    "For that, load the train and validation data (images and their labels, i.e. Omega vectors) "
   ]
  },
  {
   "cell_type": "code",
   "execution_count": 23,
   "id": "plain-minnesota",
   "metadata": {},
   "outputs": [],
   "source": [
    "#code for loading train and validation set images and their corresponding labels \n",
    "Ox_train, Oy_train = [], []\n",
    "for i,row in train_df.iterrows():\n",
    "    image = tf.keras.preprocessing.image.load_img(train_dir_path + '/' + row['Image'], target_size = (IMG_HEIGHT, IMG_WIDTH))\n",
    "    Ox_train.append(tf.keras.preprocessing.image.img_to_array(image))\n",
    "    Oy_train.append(get_Omega_vector(row['label']))\n",
    "Ox_train = np.asarray(Ox_train)\n",
    "Oy_train = np.asarray(Oy_train)\n",
    "\n",
    "Ox_validate, Oy_validate = [], []\n",
    "for i,row in validation_df.iterrows():\n",
    "    image = tf.keras.preprocessing.image.load_img(validation_dir_path + '/' + row['Image'], target_size = (IMG_HEIGHT, IMG_WIDTH))\n",
    "    Ox_validate.append(tf.keras.preprocessing.image.img_to_array(image))\n",
    "    Oy_validate.append(get_Omega_vector(row['label']))\n",
    "Ox_validate = np.asarray(Ox_validate) \n",
    "Oy_validate = np.asarray(Oy_validate)"
   ]
  },
  {
   "cell_type": "markdown",
   "id": "thrown-council",
   "metadata": {},
   "source": [
    "# Now find the best LR for the Omega model.\n",
    "\n"
   ]
  },
  {
   "cell_type": "code",
   "execution_count": 24,
   "id": "horizontal-soviet",
   "metadata": {},
   "outputs": [
    {
     "name": "stdout",
     "output_type": "stream",
     "text": [
      "Epoch 1/10\n",
      "257/257 [==============================] - 101s 384ms/step - loss: 0.1351 - cosine_similarity: 0.9349 - val_loss: 0.0491 - val_cosine_similarity: 0.9606\n",
      "Epoch 2/10\n",
      " 93/257 [=========>....................] - ETA: 1:01 - loss: 0.0366 - cosine_similarity: 0.9727"
     ]
    },
    {
     "ename": "KeyboardInterrupt",
     "evalue": "",
     "output_type": "error",
     "traceback": [
      "\u001b[1;31m---------------------------------------------------------------------------\u001b[0m",
      "\u001b[1;31mKeyboardInterrupt\u001b[0m                         Traceback (most recent call last)",
      "\u001b[1;32m<ipython-input-24-9afc1b59f3ad>\u001b[0m in \u001b[0;36m<module>\u001b[1;34m\u001b[0m\n\u001b[0;32m     24\u001b[0m \u001b[1;33m\u001b[0m\u001b[0m\n\u001b[0;32m     25\u001b[0m \u001b[1;31m# determine_best_learning_rate() is being called here\u001b[0m\u001b[1;33m\u001b[0m\u001b[1;33m\u001b[0m\u001b[0m\n\u001b[1;32m---> 26\u001b[1;33m \u001b[0mbest_Omega_lr\u001b[0m \u001b[1;33m=\u001b[0m \u001b[0mdetermine_Omega_lr\u001b[0m\u001b[1;33m(\u001b[0m\u001b[1;33m)\u001b[0m\u001b[1;33m\u001b[0m\u001b[0m\n\u001b[0m",
      "\u001b[1;32m<ipython-input-24-9afc1b59f3ad>\u001b[0m in \u001b[0;36mdetermine_Omega_lr\u001b[1;34m()\u001b[0m\n\u001b[0;32m     12\u001b[0m         hist = model.fit(\n\u001b[0;32m     13\u001b[0m           \u001b[0mx\u001b[0m\u001b[1;33m=\u001b[0m\u001b[0mOx_train\u001b[0m\u001b[1;33m,\u001b[0m\u001b[0my\u001b[0m \u001b[1;33m=\u001b[0m \u001b[0mOy_train\u001b[0m\u001b[1;33m,\u001b[0m\u001b[0mepochs\u001b[0m \u001b[1;33m=\u001b[0m \u001b[0mNUM_EPOCHS\u001b[0m\u001b[1;33m,\u001b[0m\u001b[0mbatch_size\u001b[0m \u001b[1;33m=\u001b[0m \u001b[0mBATCH_SIZE\u001b[0m\u001b[1;33m,\u001b[0m\u001b[1;33m\u001b[0m\u001b[0m\n\u001b[1;32m---> 14\u001b[1;33m           validation_data=(Ox_validate, Oy_validate)).history\n\u001b[0m\u001b[0;32m     15\u001b[0m \u001b[1;33m\u001b[0m\u001b[0m\n\u001b[0;32m     16\u001b[0m         \u001b[1;31m# Insert your code here to find the average validation accuracy for this model setting and append it to the maintained list\u001b[0m\u001b[1;33m\u001b[0m\u001b[1;33m\u001b[0m\u001b[0m\n",
      "\u001b[1;32m~\\Anaconda3\\lib\\site-packages\\tensorflow\\python\\keras\\engine\\training.py\u001b[0m in \u001b[0;36mfit\u001b[1;34m(self, x, y, batch_size, epochs, verbose, callbacks, validation_split, validation_data, shuffle, class_weight, sample_weight, initial_epoch, steps_per_epoch, validation_steps, validation_batch_size, validation_freq, max_queue_size, workers, use_multiprocessing)\u001b[0m\n\u001b[0;32m   1098\u001b[0m                 _r=1):\n\u001b[0;32m   1099\u001b[0m               \u001b[0mcallbacks\u001b[0m\u001b[1;33m.\u001b[0m\u001b[0mon_train_batch_begin\u001b[0m\u001b[1;33m(\u001b[0m\u001b[0mstep\u001b[0m\u001b[1;33m)\u001b[0m\u001b[1;33m\u001b[0m\u001b[0m\n\u001b[1;32m-> 1100\u001b[1;33m               \u001b[0mtmp_logs\u001b[0m \u001b[1;33m=\u001b[0m \u001b[0mself\u001b[0m\u001b[1;33m.\u001b[0m\u001b[0mtrain_function\u001b[0m\u001b[1;33m(\u001b[0m\u001b[0miterator\u001b[0m\u001b[1;33m)\u001b[0m\u001b[1;33m\u001b[0m\u001b[0m\n\u001b[0m\u001b[0;32m   1101\u001b[0m               \u001b[1;32mif\u001b[0m \u001b[0mdata_handler\u001b[0m\u001b[1;33m.\u001b[0m\u001b[0mshould_sync\u001b[0m\u001b[1;33m:\u001b[0m\u001b[1;33m\u001b[0m\u001b[0m\n\u001b[0;32m   1102\u001b[0m                 \u001b[0mcontext\u001b[0m\u001b[1;33m.\u001b[0m\u001b[0masync_wait\u001b[0m\u001b[1;33m(\u001b[0m\u001b[1;33m)\u001b[0m\u001b[1;33m\u001b[0m\u001b[0m\n",
      "\u001b[1;32m~\\Anaconda3\\lib\\site-packages\\tensorflow\\python\\eager\\def_function.py\u001b[0m in \u001b[0;36m__call__\u001b[1;34m(self, *args, **kwds)\u001b[0m\n\u001b[0;32m    826\u001b[0m     \u001b[0mtracing_count\u001b[0m \u001b[1;33m=\u001b[0m \u001b[0mself\u001b[0m\u001b[1;33m.\u001b[0m\u001b[0mexperimental_get_tracing_count\u001b[0m\u001b[1;33m(\u001b[0m\u001b[1;33m)\u001b[0m\u001b[1;33m\u001b[0m\u001b[0m\n\u001b[0;32m    827\u001b[0m     \u001b[1;32mwith\u001b[0m \u001b[0mtrace\u001b[0m\u001b[1;33m.\u001b[0m\u001b[0mTrace\u001b[0m\u001b[1;33m(\u001b[0m\u001b[0mself\u001b[0m\u001b[1;33m.\u001b[0m\u001b[0m_name\u001b[0m\u001b[1;33m)\u001b[0m \u001b[1;32mas\u001b[0m \u001b[0mtm\u001b[0m\u001b[1;33m:\u001b[0m\u001b[1;33m\u001b[0m\u001b[0m\n\u001b[1;32m--> 828\u001b[1;33m       \u001b[0mresult\u001b[0m \u001b[1;33m=\u001b[0m \u001b[0mself\u001b[0m\u001b[1;33m.\u001b[0m\u001b[0m_call\u001b[0m\u001b[1;33m(\u001b[0m\u001b[1;33m*\u001b[0m\u001b[0margs\u001b[0m\u001b[1;33m,\u001b[0m \u001b[1;33m**\u001b[0m\u001b[0mkwds\u001b[0m\u001b[1;33m)\u001b[0m\u001b[1;33m\u001b[0m\u001b[0m\n\u001b[0m\u001b[0;32m    829\u001b[0m       \u001b[0mcompiler\u001b[0m \u001b[1;33m=\u001b[0m \u001b[1;34m\"xla\"\u001b[0m \u001b[1;32mif\u001b[0m \u001b[0mself\u001b[0m\u001b[1;33m.\u001b[0m\u001b[0m_experimental_compile\u001b[0m \u001b[1;32melse\u001b[0m \u001b[1;34m\"nonXla\"\u001b[0m\u001b[1;33m\u001b[0m\u001b[0m\n\u001b[0;32m    830\u001b[0m       \u001b[0mnew_tracing_count\u001b[0m \u001b[1;33m=\u001b[0m \u001b[0mself\u001b[0m\u001b[1;33m.\u001b[0m\u001b[0mexperimental_get_tracing_count\u001b[0m\u001b[1;33m(\u001b[0m\u001b[1;33m)\u001b[0m\u001b[1;33m\u001b[0m\u001b[0m\n",
      "\u001b[1;32m~\\Anaconda3\\lib\\site-packages\\tensorflow\\python\\eager\\def_function.py\u001b[0m in \u001b[0;36m_call\u001b[1;34m(self, *args, **kwds)\u001b[0m\n\u001b[0;32m    853\u001b[0m       \u001b[1;31m# In this case we have created variables on the first call, so we run the\u001b[0m\u001b[1;33m\u001b[0m\u001b[1;33m\u001b[0m\u001b[0m\n\u001b[0;32m    854\u001b[0m       \u001b[1;31m# defunned version which is guaranteed to never create variables.\u001b[0m\u001b[1;33m\u001b[0m\u001b[1;33m\u001b[0m\u001b[0m\n\u001b[1;32m--> 855\u001b[1;33m       \u001b[1;32mreturn\u001b[0m \u001b[0mself\u001b[0m\u001b[1;33m.\u001b[0m\u001b[0m_stateless_fn\u001b[0m\u001b[1;33m(\u001b[0m\u001b[1;33m*\u001b[0m\u001b[0margs\u001b[0m\u001b[1;33m,\u001b[0m \u001b[1;33m**\u001b[0m\u001b[0mkwds\u001b[0m\u001b[1;33m)\u001b[0m  \u001b[1;31m# pylint: disable=not-callable\u001b[0m\u001b[1;33m\u001b[0m\u001b[0m\n\u001b[0m\u001b[0;32m    856\u001b[0m     \u001b[1;32melif\u001b[0m \u001b[0mself\u001b[0m\u001b[1;33m.\u001b[0m\u001b[0m_stateful_fn\u001b[0m \u001b[1;32mis\u001b[0m \u001b[1;32mnot\u001b[0m \u001b[1;32mNone\u001b[0m\u001b[1;33m:\u001b[0m\u001b[1;33m\u001b[0m\u001b[0m\n\u001b[0;32m    857\u001b[0m       \u001b[1;31m# Release the lock early so that multiple threads can perform the call\u001b[0m\u001b[1;33m\u001b[0m\u001b[1;33m\u001b[0m\u001b[0m\n",
      "\u001b[1;32m~\\Anaconda3\\lib\\site-packages\\tensorflow\\python\\eager\\function.py\u001b[0m in \u001b[0;36m__call__\u001b[1;34m(self, *args, **kwargs)\u001b[0m\n\u001b[0;32m   2941\u001b[0m        filtered_flat_args) = self._maybe_define_function(args, kwargs)\n\u001b[0;32m   2942\u001b[0m     return graph_function._call_flat(\n\u001b[1;32m-> 2943\u001b[1;33m         filtered_flat_args, captured_inputs=graph_function.captured_inputs)  # pylint: disable=protected-access\n\u001b[0m\u001b[0;32m   2944\u001b[0m \u001b[1;33m\u001b[0m\u001b[0m\n\u001b[0;32m   2945\u001b[0m   \u001b[1;33m@\u001b[0m\u001b[0mproperty\u001b[0m\u001b[1;33m\u001b[0m\u001b[0m\n",
      "\u001b[1;32m~\\Anaconda3\\lib\\site-packages\\tensorflow\\python\\eager\\function.py\u001b[0m in \u001b[0;36m_call_flat\u001b[1;34m(self, args, captured_inputs, cancellation_manager)\u001b[0m\n\u001b[0;32m   1917\u001b[0m       \u001b[1;31m# No tape is watching; skip to running the function.\u001b[0m\u001b[1;33m\u001b[0m\u001b[1;33m\u001b[0m\u001b[0m\n\u001b[0;32m   1918\u001b[0m       return self._build_call_outputs(self._inference_function.call(\n\u001b[1;32m-> 1919\u001b[1;33m           ctx, args, cancellation_manager=cancellation_manager))\n\u001b[0m\u001b[0;32m   1920\u001b[0m     forward_backward = self._select_forward_and_backward_functions(\n\u001b[0;32m   1921\u001b[0m         \u001b[0margs\u001b[0m\u001b[1;33m,\u001b[0m\u001b[1;33m\u001b[0m\u001b[0m\n",
      "\u001b[1;32m~\\Anaconda3\\lib\\site-packages\\tensorflow\\python\\eager\\function.py\u001b[0m in \u001b[0;36mcall\u001b[1;34m(self, ctx, args, cancellation_manager)\u001b[0m\n\u001b[0;32m    558\u001b[0m               \u001b[0minputs\u001b[0m\u001b[1;33m=\u001b[0m\u001b[0margs\u001b[0m\u001b[1;33m,\u001b[0m\u001b[1;33m\u001b[0m\u001b[0m\n\u001b[0;32m    559\u001b[0m               \u001b[0mattrs\u001b[0m\u001b[1;33m=\u001b[0m\u001b[0mattrs\u001b[0m\u001b[1;33m,\u001b[0m\u001b[1;33m\u001b[0m\u001b[0m\n\u001b[1;32m--> 560\u001b[1;33m               ctx=ctx)\n\u001b[0m\u001b[0;32m    561\u001b[0m         \u001b[1;32melse\u001b[0m\u001b[1;33m:\u001b[0m\u001b[1;33m\u001b[0m\u001b[0m\n\u001b[0;32m    562\u001b[0m           outputs = execute.execute_with_cancellation(\n",
      "\u001b[1;32m~\\Anaconda3\\lib\\site-packages\\tensorflow\\python\\eager\\execute.py\u001b[0m in \u001b[0;36mquick_execute\u001b[1;34m(op_name, num_outputs, inputs, attrs, ctx, name)\u001b[0m\n\u001b[0;32m     58\u001b[0m     \u001b[0mctx\u001b[0m\u001b[1;33m.\u001b[0m\u001b[0mensure_initialized\u001b[0m\u001b[1;33m(\u001b[0m\u001b[1;33m)\u001b[0m\u001b[1;33m\u001b[0m\u001b[0m\n\u001b[0;32m     59\u001b[0m     tensors = pywrap_tfe.TFE_Py_Execute(ctx._handle, device_name, op_name,\n\u001b[1;32m---> 60\u001b[1;33m                                         inputs, attrs, num_outputs)\n\u001b[0m\u001b[0;32m     61\u001b[0m   \u001b[1;32mexcept\u001b[0m \u001b[0mcore\u001b[0m\u001b[1;33m.\u001b[0m\u001b[0m_NotOkStatusException\u001b[0m \u001b[1;32mas\u001b[0m \u001b[0me\u001b[0m\u001b[1;33m:\u001b[0m\u001b[1;33m\u001b[0m\u001b[0m\n\u001b[0;32m     62\u001b[0m     \u001b[1;32mif\u001b[0m \u001b[0mname\u001b[0m \u001b[1;32mis\u001b[0m \u001b[1;32mnot\u001b[0m \u001b[1;32mNone\u001b[0m\u001b[1;33m:\u001b[0m\u001b[1;33m\u001b[0m\u001b[0m\n",
      "\u001b[1;31mKeyboardInterrupt\u001b[0m: "
     ]
    }
   ],
   "source": [
    "def determine_Omega_lr():\n",
    "    learning_rates = [1e-3,1e-4,1e-5]\n",
    "    avg_val_similarity = []\n",
    "    \n",
    "\n",
    "    for l_rate in learning_rates:\n",
    "        \n",
    "        # code to build a model with the current learning rate\n",
    "        model = Omega_model(l_rate)\n",
    "        \n",
    "        # code here to train the model using the training set and validate using the validation set\n",
    "        hist = model.fit(\n",
    "          x=Ox_train,y = Oy_train,epochs = NUM_EPOCHS,batch_size = BATCH_SIZE,\n",
    "          validation_data=(Ox_validate, Oy_validate)).history\n",
    "        \n",
    "        # code to find the average validation accuracy for this model setting and append it to the maintained list\n",
    "        temp = np.mean(hist['val_cosine_similarity'])\n",
    "        avg_val_similarity.append(temp)\n",
    "\n",
    "    # code to figure out the learning rate which gives the highest average validation accuracy. Print the value and return it.\n",
    "    pos = np.argmax(avg_val_similarity)\n",
    "    print(\"Learning Rate which gives highest validation accuracy : \", learning_rates[pos])\n",
    "    return learning_rates[pos]\n",
    "\n",
    "# determine_best_learning_rate() is being called here\n",
    "best_Omega_lr = determine_Omega_lr()"
   ]
  },
  {
   "cell_type": "markdown",
   "id": "proper-crisis",
   "metadata": {},
   "source": [
    "# Model building and training using callbacks\n",
    "\n",
    "---\n",
    "Now build and summarize the Omega model as per the best learning rate value determined earlier.\n"
   ]
  },
  {
   "cell_type": "code",
   "execution_count": null,
   "id": "played-reservoir",
   "metadata": {},
   "outputs": [],
   "source": [
    "# Insert code for building model using the best LR determined\n",
    "model = Omega_model(best_Omega_lr)\n",
    "print(model.summary())"
   ]
  },
  {
   "cell_type": "markdown",
   "id": "double-recruitment",
   "metadata": {},
   "source": [
    "Now instantiate the four callbacks which you have described above."
   ]
  },
  {
   "cell_type": "code",
   "execution_count": null,
   "id": "focal-survivor",
   "metadata": {},
   "outputs": [],
   "source": [
    "# EarlyStopping after validation loss has not improved for 5 epochs \n",
    "earlystop_callback = tf.keras.callbacks.EarlyStopping(monitor='val_loss', patience = 5)\n",
    "\n",
    "# ReduceLROnPlateau reducing LR by half when validation loss has not improved for 3 epochs. \n",
    "reduce_callback = tf.keras.callbacks.ReduceLROnPlateau(monitor='val_loss', factor=0.5, patience=3)\n",
    "\n",
    "# CSVlogger for keeping logs in filename of your choice\n",
    "csv_logger = tf.keras.callbacks.CSVLogger('C:/Users/Ravi/Desktop/ML assignment 3/WR-Dataset/training.csv')\n",
    "\n",
    "# ModelCheckpoint that saves the best weights of model after every 10 epochs\n",
    "checkpoint_filepath_omega = 'C:/Users/Ravi/Desktop/ML assignment 3/WR-Dataset/checkpoints/cp.ckpt'\n",
    "\n",
    "model_checkpoint_callback = tf.keras.callbacks.ModelCheckpoint(filepath=checkpoint_filepath_omega, save_best_only=True)\n",
    "\n",
    "# Make a list of all the callbacks\n",
    "callbacks = [earlystop_callback, reduce_callback, csv_logger, model_checkpoint_callback]\n"
   ]
  },
  {
   "cell_type": "markdown",
   "id": "ultimate-receptor",
   "metadata": {},
   "source": [
    "# Now train the model using these callbacks for the loaded training word images."
   ]
  },
  {
   "cell_type": "code",
   "execution_count": null,
   "id": "bronze-infrastructure",
   "metadata": {},
   "outputs": [],
   "source": [
    "# Insert code to train with callbacks (2 points)\n",
    "Ox_train, Oy_train = [], []\n",
    "for i,row in train_df.iterrows():\n",
    "    image = tf.keras.preprocessing.image.load_img(train_dir_path + '/' + row['Image'], target_size = (IMG_HEIGHT, IMG_WIDTH,3))\n",
    "    Ox_train.append(tf.keras.preprocessing.image.img_to_array(image))\n",
    "    Oy_train.append(get_Omega_vector(row['label']))\n",
    "Ox_train = np.asarray(Ox_train)\n",
    "Oy_train = np.asarray(Oy_train)\n",
    "\n",
    "Ox_validate, Oy_validate = [], []\n",
    "for i,row in validation_df.iterrows():\n",
    "    image = tf.keras.preprocessing.image.load_img(validation_dir_path + '/' + row['Image'], target_size = (IMG_HEIGHT, IMG_WIDTH,3))\n",
    "    Ox_validate.append(tf.keras.preprocessing.image.img_to_array(image))\n",
    "    Oy_validate.append(get_Omega_vector(row['label']))\n",
    "Ox_validate = np.asarray(Ox_validate) \n",
    "Oy_validate = np.asarray(Oy_validate)\n",
    "\n",
    "hist = model.fit(\n",
    "          x=Ox_train,y = Oy_train,epochs = 10,batch_size = BATCH_SIZE,\n",
    "          validation_data=(Ox_validate, Oy_validate), callbacks = callbacks).history\n",
    "print(hist)\n",
    "\n",
    "\n",
    "# Insert your code here to obtain the lists: epochs, training similarity, validation similarity, training loss, validation loss from CSV log file (1 point)\n",
    "log_file = pandas.read_csv(\"C:/Users/Ravi/Desktop/ML assignment 3/WR-Dataset/training.csv\")\n",
    "train_similarity = list(log_file['cosine_similarity'])\n",
    "valid_similarity = list(log_file['val_cosine_similarity'])\n",
    "train_loss = list(log_file['loss'])\n",
    "valid_loss = list(log_file['val_loss'])\n",
    "epochs = [i for i in range(1,11)]\n",
    "\n",
    "# Insert your code here to plot Epochs Vs. training and validation accuracy (2 points)\n",
    "fig, ax = plt.subplots(nrows=2, figsize = (20,20))\n",
    "data1 = list(zip(epochs,train_similarity, valid_similarity))\n",
    "data1 = pandas.DataFrame(data = data1, columns = ['epochs', 'Training Accuracy', 'Validation Accuracy'])\n",
    "data1 = pandas.melt(data1, id_vars = \"epochs\")\n",
    "sns.barplot(x=\"epochs\", y=\"value\", data=data1, ax = ax[0], hue = 'variable')\n",
    "\n",
    "# Insert your code here to plot Epochs Vs. training and validation loss (2 points)\n",
    "data2 = list(zip(epochs, train_loss, valid_loss))\n",
    "data2 = pandas.DataFrame(data = data2, columns = ['epochs', 'Training Loss', 'Validation Loss'])\n",
    "data2 = pandas.melt(data2, id_vars = \"epochs\")\n",
    "sns.barplot(x=\"epochs\", y=\"value\", data=data2, ax = ax[1], hue = 'variable')\n"
   ]
  },
  {
   "cell_type": "markdown",
   "id": "sharp-commercial",
   "metadata": {},
   "source": [
    "## Steps for Word recognition:\n",
    "\n",
    "First, prepare a list having all the words from test set mapped to their corresponding vectors (lexicon for both Omega and Alpha representations)."
   ]
  },
  {
   "cell_type": "code",
   "execution_count": null,
   "id": "ongoing-thinking",
   "metadata": {},
   "outputs": [],
   "source": [
    "word, o_vector = [], []  # Oy_test is label for Omega model and y_test in label for Alpha model\n",
    "for i,row in test_df.iterrows():\n",
    "    word.append(row['label'])\n",
    "    o_vector.append(get_Omega_vector(row['label']))\n",
    "omega_map = zip(word, o_vector)\n",
    "alpha_map = zip(word, a_vector)\n"
   ]
  },
  {
   "cell_type": "markdown",
   "id": "marked-stroke",
   "metadata": {},
   "source": [
    "\n",
    "For every image in the test set we will be doing following step:\n",
    "1. Predict the output vector representation from the trained model(s) when the image is given as input.\n",
    "\n",
    "2. Find the word class(from lexicon) for which the similarity of its vector representation will be highest with the output vector.\n",
    "\n",
    "3. If predicted word = true word, then it is a correct prediction, otherwise incorrect prediction.\n",
    "\n",
    "---\n",
    "\n",
    "Let us now perform recognition using trained Omega amodel on the test set. \n",
    "\n",
    "First, load the test images and their vector representations.\n"
   ]
  },
  {
   "cell_type": "code",
   "execution_count": null,
   "id": "thrown-glass",
   "metadata": {},
   "outputs": [],
   "source": [
    "# Insert code to load test images and its vector labels (1 points)\n",
    "x_test, y_test = [], [] \n",
    "for i,row in test_df.iterrows():\n",
    "    image = tf.keras.preprocessing.image.load_img(test_dir_path + '/' + row['Image'], target_size = (IMG_HEIGHT, IMG_WIDTH))\n",
    "    x_test.append(tf.keras.preprocessing.image.img_to_array(image))\n",
    "    y_test.append(get_Alpha_vector(row['label']))\n",
    "x_test = np.asarray(x_test)\n",
    "y_test = np.asarray(y_test)\n"
   ]
  },
  {
   "cell_type": "markdown",
   "id": "defensive-mobile",
   "metadata": {},
   "source": [
    "Now load the saved trained Omega model from the file and predict the labels"
   ]
  },
  {
   "cell_type": "code",
   "execution_count": 5,
   "id": "interim-determination",
   "metadata": {},
   "outputs": [
    {
     "ename": "NameError",
     "evalue": "name 'tf' is not defined",
     "output_type": "error",
     "traceback": [
      "\u001b[1;31m---------------------------------------------------------------------------\u001b[0m",
      "\u001b[1;31mNameError\u001b[0m                                 Traceback (most recent call last)",
      "\u001b[1;32m<ipython-input-5-95f146f2f703>\u001b[0m in \u001b[0;36m<module>\u001b[1;34m\u001b[0m\n\u001b[0;32m      1\u001b[0m \u001b[1;31m# Insert code for loading the saved model from file\u001b[0m\u001b[1;33m\u001b[0m\u001b[1;33m\u001b[0m\u001b[0m\n\u001b[1;32m----> 2\u001b[1;33m \u001b[0momega_saved_model\u001b[0m \u001b[1;33m=\u001b[0m \u001b[0mtf\u001b[0m\u001b[1;33m.\u001b[0m\u001b[0mkeras\u001b[0m\u001b[1;33m.\u001b[0m\u001b[0mmodels\u001b[0m\u001b[1;33m.\u001b[0m\u001b[0mload_model\u001b[0m\u001b[1;33m(\u001b[0m\u001b[0mcheckpoint_filepath_omega\u001b[0m\u001b[1;33m)\u001b[0m\u001b[1;33m\u001b[0m\u001b[0m\n\u001b[0m",
      "\u001b[1;31mNameError\u001b[0m: name 'tf' is not defined"
     ]
    }
   ],
   "source": [
    "# Insert code for loading the saved model from file\n",
    "omega_saved_model = tf.keras.models.load_model(checkpoint_filepath_omega)"
   ]
  },
  {
   "cell_type": "code",
   "execution_count": null,
   "id": "insured-binding",
   "metadata": {},
   "outputs": [],
   "source": [
    "from scipy import spatial\n",
    "def get_label(result):\n",
    "    similarity = []\n",
    "    for label in o_vector:\n",
    "        similarity.append(1 - spatial.distance.cosine(label, result))\n",
    "    pos = np.argmax(similarity)\n",
    "    return word[pos]"
   ]
  },
  {
   "cell_type": "code",
   "execution_count": null,
   "id": "intimate-topic",
   "metadata": {},
   "outputs": [],
   "source": [
    "# Insert code for predicting word labels of the test set images\n",
    "output = omega_saved_model.predict(x = x_test)\n",
    "output_labels = [get_label(res) for res in output]\n",
    "print(output_labels)"
   ]
  },
  {
   "cell_type": "markdown",
   "id": "fallen-florence",
   "metadata": {},
   "source": [
    "Evaluate the performance of the Omega model"
   ]
  },
  {
   "cell_type": "code",
   "execution_count": null,
   "id": "occasional-knife",
   "metadata": {},
   "outputs": [],
   "source": [
    "# Insert code to compute accuracy of images that belong to seen classes\n",
    "acc2 = omega_saved_model.evaluate(Ox_train, Oy_train)\n",
    "print(acc2[1])\n",
    "\n",
    "# Insert code to compute accuracy of images that belong to unseen classes\n",
    "acc1 = omega_saved_model.evaluate(x_test,y_test)\n",
    "print(acc1[1])\n",
    "\n",
    "# Insert code to compute effective accuracy\n",
    "import statistics\n",
    "final_ac = statistics.harmonic_mean([acc2[1],acc1[1]])\n",
    "print(\"Harmonic accuracy : \",final_ac)"
   ]
  }
 ],
 "metadata": {
  "kernelspec": {
   "display_name": "Python 3",
   "language": "python",
   "name": "python3"
  },
  "language_info": {
   "codemirror_mode": {
    "name": "ipython",
    "version": 3
   },
   "file_extension": ".py",
   "mimetype": "text/x-python",
   "name": "python",
   "nbconvert_exporter": "python",
   "pygments_lexer": "ipython3",
   "version": "3.6.5"
  }
 },
 "nbformat": 4,
 "nbformat_minor": 5
}
